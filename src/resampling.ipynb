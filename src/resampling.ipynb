{
 "cells": [
  {
   "cell_type": "code",
   "execution_count": null,
   "id": "1bbcde88",
   "metadata": {},
   "outputs": [],
   "source": [
    "import pandas as pd\n",
    "\n",
    "data = pd.read_csv(\"data/breast_cancer/METABRIC_RNA_Mutation.csv\")\n",
    "\n",
    "data\n",
    "\n",
    "# Fill numeric columns with their mean\n",
    "for col in data.select_dtypes(include='number').columns:\n",
    "    data[col] = data[col].fillna(data[col].mean())\n",
    "\n",
    "# Fill object (string) columns with their mode\n",
    "for col in data.select_dtypes(include='object').columns:\n",
    "    mode = data[col].mode()\n",
    "    if not mode.empty:\n",
    "        data[col] = data[col].fillna(mode[0])"
   ]
  },
  {
   "cell_type": "code",
   "execution_count": null,
   "id": "45af9440",
   "metadata": {},
   "outputs": [],
   "source": [
    "mutations = set()\n",
    "for i in data.columns:\n",
    "    if \"mut\" in i:\n",
    "        mutations.add(i)\n",
    "mutations.remove(\"mutation_count\")"
   ]
  },
  {
   "cell_type": "code",
   "execution_count": null,
   "id": "99e96873",
   "metadata": {},
   "outputs": [],
   "source": [
    "labels = pd.get_dummies(data[\"cancer_type_detailed\"])\n",
    "labels = labels.drop(columns=\"Breast\",axis=1)\n",
    "labels\n",
    "data = pd.concat([data.reset_index(drop=True), labels.reset_index(drop=True)], axis=1)\n",
    "data\n"
   ]
  },
  {
   "cell_type": "code",
   "execution_count": null,
   "id": "41c79cdb",
   "metadata": {},
   "outputs": [],
   "source": [
    "features = ['Breast Invasive Ductal Carcinoma','Breast Invasive Lobular Carcinoma','Breast Invasive Mixed Mucinous Carcinoma','Breast Mixed Ductal and Lobular Carcinoma','Metaplastic Breast Cancer',\n",
    "    'age_at_diagnosis', 'er_status_measured_by_ihc_subtype_Negative','er_status_measured_by_ihc_subtype_Positve', 'er_status_subtype_Negative', 'er_status_subtype_Positive', 'her2_status_measured_by_snp6_subtype_GAIN', 'her2_status_measured_by_snp6_subtype_LOSS', 'her2_status_measured_by_snp6_subtype_NEUTRAL','her2_status_measured_by_snp6_subtype_UNDEF',\n",
    "    'lymph_nodes_examined_positive', 'mutation_count', 'neoplasm_histologic_grade', 'nottingham_prognostic_index', 'pr_status_subtype_Negative', 'pr_status_subtype_Positive', 'pr_statussubtype_Negative', 'pr_statussubtype_Positive',\n",
    "    'primary_tumor_laterality_subtype_Left', 'primary_tumor_laterality_subtype_Right',\n",
    "    'tumor_size', 'tumor_stage']    \n",
    "\n",
    "for i in mutations:\n",
    "    features.append(i)"
   ]
  },
  {
   "cell_type": "code",
   "execution_count": null,
   "id": "0854a53c",
   "metadata": {},
   "outputs": [],
   "source": [
    "for i in data:\n",
    "    if i not in features:\n",
    "        data = data.drop(columns=i,axis=1)\n",
    "\n",
    "data"
   ]
  },
  {
   "cell_type": "code",
   "execution_count": null,
   "id": "2a5afa0a",
   "metadata": {},
   "outputs": [],
   "source": [
    "gene_functions = {\n",
    "    \"PIK3CA\": \"Encodes a catalytic subunit of PI3K, driving cell growth and survival signaling; frequently mutated in cancers.\",\n",
    "    \"TP53\": \"Tumor suppressor gene that regulates DNA repair, apoptosis, and cell cycle; commonly inactivated in cancer.\",\n",
    "    \"CDH1\": \"Encodes E-cadherin, a protein crucial for cell-cell adhesion; loss leads to increased cancer invasiveness.\",\n",
    "    \"MAP2K4\": \"Part of the MAPK pathway, involved in stress and apoptosis signaling; mutations may disrupt cell death regulation.\",\n",
    "    \"USP9X\": \"Deubiquitinase that stabilizes proteins by preventing degradation; mutations affect cell survival and signaling.\",\n",
    "    \"CACNA2D3\": \"Modulates calcium channels affecting cell signaling; often silenced in cancer and may regulate apoptosis.\",\n",
    "    \"MUC16\": \"Encodes a large mucin protein (also known as CA125); overexpressed in tumors and may help in immune evasion.\"\n",
    "}\n",
    "\n",
    "\n",
    "for i in features:\n",
    "    found = False\n",
    "    if \"mut\" in i:\n",
    "        for k in gene_functions:\n",
    "            if k.lower() in i:\n",
    "                found = True \n",
    "                break\n",
    "        if found == False:\n",
    "            features.remove(i)\n",
    "features\n",
    "\n",
    "    \n"
   ]
  },
  {
   "cell_type": "code",
   "execution_count": null,
   "id": "68bf11e7",
   "metadata": {},
   "outputs": [],
   "source": [
    "for i in gene_functions:\n",
    "  for k in features:\n",
    "      if i.lower() in k:\n",
    "         print(True)"
   ]
  },
  {
   "cell_type": "code",
   "execution_count": null,
   "id": "b315b987",
   "metadata": {},
   "outputs": [],
   "source": [
    "df = data.copy()\n",
    "maxUsage = dict()\n",
    "maxAdditionalColumns = 2\n",
    "current = 0\n",
    "for i in df:\n",
    "    current=0\n",
    "    if \"mut\" in i: maxUsage[i] = 0\n",
    "    if \"mut\" in i and \"count\" not in i:\n",
    "        dummies = pd.get_dummies(data[i], prefix=i+\"_\")\n",
    "        dummies = dummies.drop_duplicates()\n",
    "        df = df.drop(columns=i,axis=1)\n",
    "                \n",
    "        for k in dummies:\n",
    "            if current >= maxAdditionalColumns: break\n",
    "            df = pd.concat([df.reset_index(drop=True),dummies[k].reset_index(drop=True)],axis=1)\n",
    "            current +=1\n",
    "        print(i)\n",
    "\n",
    "\n",
    "\n",
    "\n",
    "\n",
    "            \n",
    "\n",
    "df = df.drop_duplicates()\n",
    "df\n",
    "       "
   ]
  },
  {
   "cell_type": "code",
   "execution_count": null,
   "id": "222f13e9",
   "metadata": {},
   "outputs": [],
   "source": [
    "df.to_csv(\"data/patientMutations3.csv\")"
   ]
  },
  {
   "cell_type": "code",
   "execution_count": null,
   "id": "b292c990",
   "metadata": {},
   "outputs": [],
   "source": [
    "newF = list()\n",
    "for i in df:\n",
    "    newF.append(i)\n",
    "newF"
   ]
  },
  {
   "cell_type": "code",
   "execution_count": null,
   "id": "b6c7f6dd",
   "metadata": {},
   "outputs": [],
   "source": [
    "newF[:25]\n",
    "\n",
    "dff = df.copy()"
   ]
  },
  {
   "cell_type": "code",
   "execution_count": null,
   "id": "c36a3928",
   "metadata": {},
   "outputs": [],
   "source": [
    "import numpy as np\n",
    "\n",
    "def is_nan_or_empty(df):\n",
    "    if df.empty:\n",
    "        return True\n",
    "    elif df.isna().all().all():\n",
    "        return True\n",
    "    else:\n",
    "        return False\n"
   ]
  },
  {
   "cell_type": "code",
   "execution_count": null,
   "id": "73eb8467",
   "metadata": {},
   "outputs": [],
   "source": [
    "#dff.to_csv(\"patientMutationsData.csv\")\n",
    "for i in dff:\n",
    "    print(is_nan_or_empty(dff[i]),i)"
   ]
  },
  {
   "cell_type": "code",
   "execution_count": null,
   "id": "9fa9714e",
   "metadata": {},
   "outputs": [],
   "source": [
    "newData = pd.read_csv(\"data/patientMutations3.csv\")\n",
    "\n",
    "newData = newData.fillna(newData.mean(numeric_only=True))\n",
    "\n",
    "for col in newData.columns:\n",
    "    if newData[col].dtype in ['float64', 'int64']:\n",
    "        newData[col] = newData[col].fillna(newData[col].mean())\n",
    "    else:\n",
    "        newData[col] = newData[col].fillna(newData[col].mode().iloc[0])\n",
    "\n",
    "newData\n",
    "            "
   ]
  },
  {
   "cell_type": "code",
   "execution_count": null,
   "id": "45c9d975",
   "metadata": {},
   "outputs": [],
   "source": [
    "newData.to_csv(\"redo.csv\")\n"
   ]
  },
  {
   "cell_type": "code",
   "execution_count": null,
   "id": "a86f3d98",
   "metadata": {},
   "outputs": [],
   "source": [
    "originalDF = pd.read_csv(\"data/breast_cancer/METABRIC_RNA_Mutation.csv\")\n",
    "dummies = pd.get_dummies(originalDF['cancer_type_detailed'])\n",
    "\n",
    "# Only proceed if they match\n",
    "if len(originalDF) == len(dummies):\n",
    "    originalDF = pd.concat(\n",
    "        [originalDF.reset_index(drop=True), dummies.reset_index(drop=True)],\n",
    "        axis=1\n",
    "    )\n",
    "else:\n",
    "    print(\"Mismatch in number of rows. Cannot concat.\")\n"
   ]
  },
  {
   "cell_type": "code",
   "execution_count": null,
   "id": "07a05c5e",
   "metadata": {},
   "outputs": [],
   "source": [
    "dummies = pd.get_dummies(originalDF['type_of_breast_surgery'],i+\"_\")\n",
    "originalDF = originalDF.drop(columns=\"type_of_breast_surgery\",axis=1)\n",
    "# Only proceed if they match\n",
    "if len(originalDF) == len(dummies):\n",
    "    originalDF = pd.concat(\n",
    "        [originalDF.reset_index(drop=True), dummies.reset_index(drop=True)],\n",
    "        axis=1\n",
    "    )\n",
    "else:\n",
    "    print(\"Mismatch in number of rows. Cannot concat.\")\n",
    "originalDF = originalDF.drop(columns=\"cancer_type_detailed\",axis=1)\n",
    "originalDF"
   ]
  },
  {
   "cell_type": "code",
   "execution_count": null,
   "id": "6670cd56",
   "metadata": {},
   "outputs": [],
   "source": [
    "features = [ \n",
    "        'age_at_diagnosis',\n",
    "        'cellularity',\n",
    "        'er_status_measured_by_ihc',\n",
    "        'her2_status_measured_by_snp6',\n",
    "        'hormone_therapy',\n",
    "        'tumor_size',\n",
    "        'tumor_stage',\n",
    "        'Breast Invasive Ductal Carcinoma',\n",
    "        'Breast Invasive Lobular Carcinoma',\n",
    "        'Breast Invasive Mixed Mucinous Carcinoma',\n",
    "        'Breast Mixed Ductal and Lobular Carcinoma',\n",
    "        'Metaplastic Breast Cancer',\n",
    "        'radio_therapy',\n",
    "        'death_from_cancer'\n",
    "    ]\n",
    "    \n",
    "labels = [\n",
    "                'BREAST CONSERVING',\n",
    "                'overall_survival_months',\n",
    "                'MASTECTOMY'\n",
    "]\n",
    "\n",
    "for i in features:\n",
    "    if originalDF[i].dtype == \"object\":\n",
    "        dummies = pd.get_dummies(originalDF[i])\n",
    "        # Only proceed if they match\n",
    "        if len(originalDF) == len(dummies):\n",
    "            originalDF = pd.concat(\n",
    "                [originalDF.reset_index(drop=True), dummies.reset_index(drop=True)],\n",
    "                axis=1\n",
    "            )\n",
    "        else:\n",
    "            print(\"Mismatch in number of rows. Cannot concat.\")\n",
    "        originalDF = originalDF.drop(columns=i,axis=1)\n",
    "\n",
    "originalDF\n"
   ]
  },
  {
   "cell_type": "code",
   "execution_count": null,
   "id": "b20fa1bb",
   "metadata": {},
   "outputs": [],
   "source": [
    "originalDF.to_csv(\"data/breast_cancer/originalDF.csv\")"
   ]
  }
 ],
 "metadata": {
  "kernelspec": {
   "display_name": "myenv_py310",
   "language": "python",
   "name": "python3"
  },
  "language_info": {
   "codemirror_mode": {
    "name": "ipython",
    "version": 3
   },
   "file_extension": ".py",
   "mimetype": "text/x-python",
   "name": "python",
   "nbconvert_exporter": "python",
   "pygments_lexer": "ipython3",
   "version": "3.13.4"
  }
 },
 "nbformat": 4,
 "nbformat_minor": 5
}
